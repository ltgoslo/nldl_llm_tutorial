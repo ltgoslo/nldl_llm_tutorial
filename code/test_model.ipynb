{
 "cells": [
  {
   "cell_type": "code",
   "execution_count": 1,
   "metadata": {},
   "outputs": [],
   "source": [
    "import sys\n",
    "import torch\n",
    "from transformers import AutoTokenizer, AutoModelForCausalLM\n",
    "from time import time\n",
    "from tqdm import tqdm\n",
    "import os"
   ]
  },
  {
   "cell_type": "code",
   "execution_count": 2,
   "metadata": {},
   "outputs": [],
   "source": [
    "sys.argv[1] = \"/mnt/shared/normistral-7b-warm-instruct/\""
   ]
  },
  {
   "cell_type": "code",
   "execution_count": 3,
   "metadata": {},
   "outputs": [],
   "source": [
    "start = time()"
   ]
  },
  {
   "cell_type": "code",
   "execution_count": 4,
   "metadata": {},
   "outputs": [
    {
     "data": {
      "application/vnd.jupyter.widget-view+json": {
       "model_id": "2fcd59957cb9448295aff2aae25f18be",
       "version_major": 2,
       "version_minor": 0
      },
      "text/plain": [
       "Loading checkpoint shards:   0%|          | 0/3 [00:00<?, ?it/s]"
      ]
     },
     "metadata": {},
     "output_type": "display_data"
    }
   ],
   "source": [
    "tokenizer = AutoTokenizer.from_pretrained(sys.argv[1], clean_up_tokenization_spaces=False)\n",
    "model = AutoModelForCausalLM.from_pretrained(sys.argv[1], torch_dtype=torch.bfloat16).eval()"
   ]
  },
  {
   "cell_type": "code",
   "execution_count": 5,
   "metadata": {},
   "outputs": [],
   "source": [
    "end = time()"
   ]
  },
  {
   "cell_type": "code",
   "execution_count": 6,
   "metadata": {},
   "outputs": [
    {
     "name": "stdout",
     "output_type": "stream",
     "text": [
      "Loading the model took 12 seconds\n"
     ]
    }
   ],
   "source": [
    "print(f\"Loading the model took {int(end - start)} seconds\")"
   ]
  },
  {
   "cell_type": "code",
   "execution_count": 7,
   "metadata": {},
   "outputs": [],
   "source": [
    "questions = [\"Hva er navnet på flyplassen i Moss?\", \"Hvor lenge har Rygge vært stengt?\", \"Hvem er talsperson for RSL?\", \"Hva svarer Espen Ettre på spørsmålet om han fortsatt er optimistisk?\"]\n",
    "questions = [\"Hva er navnet på flyplassen i Moss?\"]\n",
    "responses = []"
   ]
  },
  {
   "cell_type": "code",
   "execution_count": 8,
   "metadata": {},
   "outputs": [],
   "source": []
  },
  {
   "cell_type": "code",
   "execution_count": 11,
   "metadata": {},
   "outputs": [
    {
     "name": "stderr",
     "output_type": "stream",
     "text": [
      "100%|████████████████████████████████████████████████████████████████████████████████████| 1/1 [00:09<00:00,  9.42s/it]\n"
     ]
    }
   ],
   "source": [
    "start = time()\n",
    "for question in tqdm(questions):\n",
    "    messages = [\n",
    "        {\"role\": \"user\", \"content\": question}\n",
    "    ]\n",
    "    gen_input = tokenizer.apply_chat_template(messages, add_generation_prompt=True, return_tensors=\"pt\")\n",
    "    output = model.generate(\n",
    "        gen_input,\n",
    "        max_new_tokens=12,\n",
    "        top_k=64,  # top-k sampling\n",
    "        top_p=0.9,  # nucleus sampling\n",
    "        temperature=0.3,  # a low temperature to make the outputs less chaotic\n",
    "        repetition_penalty=1.0,  # turn the repetition penalty off, having it on can lead to very bad outputs\n",
    "        do_sample=True,  # randomly sample the outputs\n",
    "        use_cache=True,  # speed-up generation,\n",
    "        pad_token_id=tokenizer.eos_token_id\n",
    "    )\n",
    "    decoded_output = tokenizer.decode(output[0, gen_input.size(1):], skip_special_tokens=True).strip()\n",
    "    responses.append(decoded_output)\n",
    "    end = time()"
   ]
  },
  {
   "cell_type": "code",
   "execution_count": 12,
   "metadata": {},
   "outputs": [
    {
     "name": "stdout",
     "output_type": "stream",
     "text": [
      "Hva er navnet på flyplassen i Moss?\n",
      "Moss lufthavn, Rygge, ofte referert til som RSL\n",
      "====================\n",
      "Generating responses took 9 seconds\n"
     ]
    }
   ],
   "source": [
    "\n",
    "for q, r in zip(questions, responses):\n",
    "    print(q)\n",
    "    print(r)\n",
    "    print(\"====================\")\n",
    "print(f\"Generating responses took {int(end - start)} seconds\")"
   ]
  },
  {
   "cell_type": "code",
   "execution_count": null,
   "metadata": {},
   "outputs": [],
   "source": []
  }
 ],
 "metadata": {
  "kernelspec": {
   "display_name": "Python 3 (ipykernel)",
   "language": "python",
   "name": "python3"
  },
  "language_info": {
   "codemirror_mode": {
    "name": "ipython",
    "version": 3
   },
   "file_extension": ".py",
   "mimetype": "text/x-python",
   "name": "python",
   "nbconvert_exporter": "python",
   "pygments_lexer": "ipython3",
   "version": "3.11.5"
  }
 },
 "nbformat": 4,
 "nbformat_minor": 4
}
